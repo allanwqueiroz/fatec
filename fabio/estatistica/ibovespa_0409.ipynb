{
 "cells": [
  {
   "cell_type": "code",
   "execution_count": 16,
   "id": "27cc9a49",
   "metadata": {},
   "outputs": [
    {
     "name": "stdout",
     "output_type": "stream",
     "text": [
      "Empty DataFrame\n",
      "Columns: [DATA, ABERTURA, FECHAMENTO, VARIAÇÃO, MÍNIMO, MÁXIMO]\n",
      "Index: []\n"
     ]
    }
   ],
   "source": [
    "import numpy as np\n",
    "import seaborn as sns\n",
    "import matplotlib.pyplot as plt\n",
    "import pandas as pd\n",
    "\n",
    "ibovespa_data = pd.read_html(r'https://www.infomoney.com.br/cotacoes/b3/indice/ibovespa/historico/')\n",
    "print(ibovespa_data[0].head())\n",
    "ibovespa_data = ibovespa_data[0]\n",
    "ibovespa_var = ibovespa_data['VARIAÇÃO']\n",
    "\n"
   ]
  },
  {
   "cell_type": "code",
   "execution_count": 17,
   "id": "b001ed10",
   "metadata": {},
   "outputs": [
    {
     "name": "stdout",
     "output_type": "stream",
     "text": [
      "<bound method Series.mean of Series([], Name: VARIAÇÃO, dtype: object)>\n"
     ]
    }
   ],
   "source": [
    "mean_ibovespa = ibovespa_var.mean\n",
    "print(mean_ibovespa)"
   ]
  },
  {
   "cell_type": "code",
   "execution_count": null,
   "id": "305c341b",
   "metadata": {},
   "outputs": [],
   "source": [
    "data = pd.read_excel(\"Turmas.xlsx\") \n",
    "student_data = data['Alunos']\n",
    "\n",
    "mean = np.mean(student_data)\n",
    "variance = np.var(student_data, ddof=1)\n",
    "max_value = np.max(student_data)\n",
    "min_value = np.min(student_data)\n",
    "median = np.median(student_data)\n",
    "std = np.std(student_data)\n",
    "percentile = np.percentile(student_data, [25, 50, 75])"
   ]
  },
  {
   "cell_type": "code",
   "execution_count": 20,
   "id": "7b491c3d",
   "metadata": {},
   "outputs": [
    {
     "ename": "ModuleNotFoundError",
     "evalue": "No module named 'selenium'",
     "output_type": "error",
     "traceback": [
      "\u001b[1;31m---------------------------------------------------------------------------\u001b[0m",
      "\u001b[1;31mModuleNotFoundError\u001b[0m                       Traceback (most recent call last)",
      "Cell \u001b[1;32mIn[20], line 8\u001b[0m\n\u001b[0;32m      1\u001b[0m \u001b[38;5;66;03m# Primeiro, você precisa instalar o Selenium\u001b[39;00m\n\u001b[0;32m      2\u001b[0m \u001b[38;5;66;03m# pip install selenium\u001b[39;00m\n\u001b[0;32m      3\u001b[0m \n\u001b[0;32m      4\u001b[0m \u001b[38;5;66;03m# Você também precisa do driver do navegador.\u001b[39;00m\n\u001b[0;32m      5\u001b[0m \u001b[38;5;66;03m# Se você usa o Chrome, baixe o chromedriver.\u001b[39;00m\n\u001b[0;32m      6\u001b[0m \u001b[38;5;66;03m# https://chromedriver.chromium.org/downloads\u001b[39;00m\n\u001b[1;32m----> 8\u001b[0m \u001b[38;5;28;01mfrom\u001b[39;00m \u001b[38;5;21;01mselenium\u001b[39;00m \u001b[38;5;28;01mimport\u001b[39;00m webdriver\n\u001b[0;32m      9\u001b[0m \u001b[38;5;28;01mfrom\u001b[39;00m \u001b[38;5;21;01mselenium\u001b[39;00m\u001b[38;5;21;01m.\u001b[39;00m\u001b[38;5;21;01mwebdriver\u001b[39;00m\u001b[38;5;21;01m.\u001b[39;00m\u001b[38;5;21;01mchrome\u001b[39;00m\u001b[38;5;21;01m.\u001b[39;00m\u001b[38;5;21;01mservice\u001b[39;00m \u001b[38;5;28;01mimport\u001b[39;00m Service\n\u001b[0;32m     10\u001b[0m \u001b[38;5;28;01mimport\u001b[39;00m \u001b[38;5;21;01mpandas\u001b[39;00m \u001b[38;5;28;01mas\u001b[39;00m \u001b[38;5;21;01mpd\u001b[39;00m\n",
      "\u001b[1;31mModuleNotFoundError\u001b[0m: No module named 'selenium'"
     ]
    }
   ],
   "source": [
    "# Primeiro, você precisa instalar o Selenium\n",
    "# pip install selenium\n",
    "\n",
    "# Você também precisa do driver do navegador.\n",
    "# Se você usa o Chrome, baixe o chromedriver.\n",
    "# https://chromedriver.chromium.org/downloads\n",
    "\n",
    "from selenium import webdriver\n",
    "from selenium.webdriver.chrome.service import Service\n",
    "import pandas as pd\n",
    "import time\n",
    "\n",
    "# Especifique o caminho para o seu chromedriver\n",
    "# Se ele estiver na mesma pasta do seu código, pode ser apenas 'chromedriver.exe'\n",
    "servico = Service('caminho/para/o/seu/chromedriver') \n",
    "driver = webdriver.Chrome(service=servico)\n",
    "\n",
    "# Navegue até a página\n",
    "driver.get('https://www.infomoney.com.br/cotacoes/b3/indice/ibovespa/historico/')\n",
    "\n",
    "# Dê um tempo para a página carregar completamente, \n",
    "# incluindo os dados dinâmicos da tabela\n",
    "time.sleep(10) # 10 segundos para garantir\n",
    "\n",
    "# Agora, o Selenium tem a página completa. \n",
    "# Pegue o HTML e use o pandas para ler a tabela.\n",
    "tabelas = pd.read_html(driver.page_source)\n",
    "\n",
    "# Acessar a primeira tabela da lista (o índice 0)\n",
    "df = tabelas[0]\n",
    "\n",
    "print(df.head())\n",
    "\n",
    "# Lembre-se de fechar o navegador\n",
    "driver.quit()"
   ]
  },
  {
   "cell_type": "code",
   "execution_count": null,
   "id": "8432edfb",
   "metadata": {},
   "outputs": [],
   "source": []
  }
 ],
 "metadata": {
  "kernelspec": {
   "display_name": "base",
   "language": "python",
   "name": "python3"
  },
  "language_info": {
   "codemirror_mode": {
    "name": "ipython",
    "version": 3
   },
   "file_extension": ".py",
   "mimetype": "text/x-python",
   "name": "python",
   "nbconvert_exporter": "python",
   "pygments_lexer": "ipython3",
   "version": "3.12.4"
  }
 },
 "nbformat": 4,
 "nbformat_minor": 5
}
