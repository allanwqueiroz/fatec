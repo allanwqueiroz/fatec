{
 "cells": [
  {
   "cell_type": "code",
   "execution_count": 19,
   "id": "9b0fcb81",
   "metadata": {},
   "outputs": [],
   "source": [
    "import numpy as np\n",
    "from collections import Counter\n",
    "import pandas as pd"
   ]
  },
  {
   "cell_type": "code",
   "execution_count": 1,
   "id": "b0a01f2e",
   "metadata": {},
   "outputs": [],
   "source": [
    "def is_prime(n):\n",
    "    if n < 2:\n",
    "        return False\n",
    "    for i in range (2, int(n**0.5) + 1):\n",
    "        if n % i == 0:\n",
    "            return False\n",
    "    return True"
   ]
  },
  {
   "cell_type": "code",
   "execution_count": 3,
   "id": "f0fc4705",
   "metadata": {},
   "outputs": [],
   "source": [
    "def nearest_prime(n):\n",
    "\n",
    "    if n < 2:\n",
    "        return 2\n",
    "    if is_prime(n):\n",
    "        return n\n",
    "    \n",
    "    lower, upper = n -1, n+1\n",
    "    while lower > 1 or upper < 2 *n:\n",
    "        if lower > 1 and is_prime(lower):\n",
    "            return lower\n",
    "        if is_prime(upper):\n",
    "            return upper\n",
    "        \n",
    "        lower -= 1\n",
    "        upper += 1\n",
    "    \n"
   ]
  },
  {
   "cell_type": "code",
   "execution_count": 10,
   "id": "50541255",
   "metadata": {},
   "outputs": [],
   "source": [
    "def mode_nearest_prime(random_integers):\n",
    "\n",
    "    nearest_primes =[nearest_prime(n) for n in random_integers]\n",
    "\n",
    "    c = Counter(nearest_primes)\n",
    "\n",
    "    return c.most_common(1)[0][0]"
   ]
  },
  {
   "cell_type": "code",
   "execution_count": 17,
   "id": "8646af02",
   "metadata": {},
   "outputs": [
    {
     "data": {
      "text/plain": [
       "array([56615, 54571, 91776, 20353, 29385, 11043, 74608, 68647, 57073,\n",
       "       46596, 41276, 61831, 17255, 72502, 15170, 52138, 56976,  7305,\n",
       "        3268, 10980, 58836, 75959, 98528, 21843, 26937, 10161, 79117,\n",
       "       70817, 75619, 33031, 72398, 87997, 78784, 55937, 60313, 28430,\n",
       "       19468, 16595, 81617, 69340, 26317, 48399, 99833, 68977, 89972,\n",
       "       64807, 81473, 89750, 43909, 38454, 43236, 19776, 34166, 75910,\n",
       "       44770, 79449, 96256, 38473, 14720, 80765, 62357, 57181, 38874,\n",
       "       70271, 75257, 93299, 21756, 46446, 43209,  5171, 41784, 94717,\n",
       "       40702, 73999, 92004, 46007, 86654, 34241,  6817, 54611, 44126,\n",
       "        9595, 27774, 37458, 86995, 77169, 48465, 98360, 30649,  1984,\n",
       "       22894, 10393, 18634, 23442, 90775, 44740,  5408, 46331, 52275,\n",
       "       98437, 75848, 18608, 11774, 69801, 59268, 13366, 52010, 57276,\n",
       "       15784, 68833, 64579, 41833, 98195, 77559, 87822, 96264, 19913,\n",
       "       13692, 72498, 80322, 32182, 61119, 15410, 57493, 82885, 80787,\n",
       "       11131, 70094, 31586, 91977, 77302, 50620, 58453, 10889, 50601,\n",
       "       85011, 96283, 56649, 27311, 79771, 20298, 92780,  2942, 68229,\n",
       "       98921, 10293, 47767,  2197, 90174, 77468])"
      ]
     },
     "execution_count": 17,
     "metadata": {},
     "output_type": "execute_result"
    }
   ],
   "source": [
    "random_integers = np.random.randint(1, 100_000, 150)\n",
    "random_integers"
   ]
  },
  {
   "cell_type": "code",
   "execution_count": 18,
   "id": "86e990a3",
   "metadata": {},
   "outputs": [
    {
     "data": {
      "text/plain": [
       "56611"
      ]
     },
     "execution_count": 18,
     "metadata": {},
     "output_type": "execute_result"
    }
   ],
   "source": [
    "mode = mode_nearest_prime(random_integers)\n",
    "mode"
   ]
  },
  {
   "cell_type": "code",
   "execution_count": 44,
   "id": "f6832c81",
   "metadata": {},
   "outputs": [
    {
     "name": "stdout",
     "output_type": "stream",
     "text": [
      " Memória antes: 21.21 MB\n",
      " Memória depois: 28.64 MB\n",
      " Diferença de memória: 7.44 MB\n"
     ]
    },
    {
     "data": {
      "text/plain": [
       "67595"
      ]
     },
     "execution_count": 44,
     "metadata": {},
     "output_type": "execute_result"
    }
   ],
   "source": [
    "import numpy as np\n",
    "from collections import Counter\n",
    "import psutil\n",
    "import os\n",
    "def mode_using_counter(n_integers):\n",
    "\n",
    "    process = psutil.Process(os.getpid())  # Obter o processo atual\n",
    "    mem_before = process.memory_info().rss / 1024 ** 2  # Memória antes (MB)\n",
    "\n",
    "    random_integers = np.random.randint(1, 100_000, n_integers)\n",
    "    c = Counter(random_integers)\n",
    "    result = c.most_common(1)[0][0]\n",
    "    mem_after = process.memory_info().rss / 1024 ** 2  # Memória depois (MB)\n",
    "    print(f\" Memória antes: {mem_before:.2f} MB\")\n",
    "    print(f\" Memória depois: {mem_after:.2f} MB\")\n",
    "    print(f\" Diferença de memória: {mem_after - mem_before:.2f} MB\")\n",
    "    return result\n",
    "mode_using_counter(100_000)"
   ]
  },
  {
   "cell_type": "code",
   "execution_count": null,
   "id": "3e9381d8",
   "metadata": {},
   "outputs": [],
   "source": []
  },
  {
   "cell_type": "code",
   "execution_count": 27,
   "id": "6edee235",
   "metadata": {},
   "outputs": [
    {
     "data": {
      "text/html": [
       "<div>\n",
       "<style scoped>\n",
       "    .dataframe tbody tr th:only-of-type {\n",
       "        vertical-align: middle;\n",
       "    }\n",
       "\n",
       "    .dataframe tbody tr th {\n",
       "        vertical-align: top;\n",
       "    }\n",
       "\n",
       "    .dataframe thead th {\n",
       "        text-align: right;\n",
       "    }\n",
       "</style>\n",
       "<table border=\"1\" class=\"dataframe\">\n",
       "  <thead>\n",
       "    <tr style=\"text-align: right;\">\n",
       "      <th></th>\n",
       "      <th>Conc.</th>\n",
       "      <th>Data</th>\n",
       "      <th>n1</th>\n",
       "      <th>n2</th>\n",
       "      <th>n3</th>\n",
       "      <th>n4</th>\n",
       "      <th>n5</th>\n",
       "      <th>n6</th>\n",
       "      <th>Gan.</th>\n",
       "      <th>Prêmio</th>\n",
       "      <th>Apostas</th>\n",
       "    </tr>\n",
       "  </thead>\n",
       "  <tbody>\n",
       "    <tr>\n",
       "      <th>0</th>\n",
       "      <td>2911</td>\n",
       "      <td>06/09/2025</td>\n",
       "      <td>54</td>\n",
       "      <td>59</td>\n",
       "      <td>32</td>\n",
       "      <td>56</td>\n",
       "      <td>23</td>\n",
       "      <td>27</td>\n",
       "      <td>0</td>\n",
       "      <td>NaN</td>\n",
       "      <td>9881794.0</td>\n",
       "    </tr>\n",
       "    <tr>\n",
       "      <th>1</th>\n",
       "      <td>2910</td>\n",
       "      <td>04/09/2025</td>\n",
       "      <td>11</td>\n",
       "      <td>28</td>\n",
       "      <td>15</td>\n",
       "      <td>29</td>\n",
       "      <td>4</td>\n",
       "      <td>3</td>\n",
       "      <td>0</td>\n",
       "      <td>NaN</td>\n",
       "      <td>7528956.0</td>\n",
       "    </tr>\n",
       "    <tr>\n",
       "      <th>2</th>\n",
       "      <td>2909</td>\n",
       "      <td>02/09/2025</td>\n",
       "      <td>21</td>\n",
       "      <td>31</td>\n",
       "      <td>53</td>\n",
       "      <td>58</td>\n",
       "      <td>41</td>\n",
       "      <td>8</td>\n",
       "      <td>0</td>\n",
       "      <td>NaN</td>\n",
       "      <td>6454893.0</td>\n",
       "    </tr>\n",
       "    <tr>\n",
       "      <th>3</th>\n",
       "      <td>2908</td>\n",
       "      <td>30/08/2025</td>\n",
       "      <td>37</td>\n",
       "      <td>38</td>\n",
       "      <td>20</td>\n",
       "      <td>36</td>\n",
       "      <td>50</td>\n",
       "      <td>35</td>\n",
       "      <td>0</td>\n",
       "      <td>NaN</td>\n",
       "      <td>6862741.0</td>\n",
       "    </tr>\n",
       "    <tr>\n",
       "      <th>4</th>\n",
       "      <td>2907</td>\n",
       "      <td>28/08/2025</td>\n",
       "      <td>30</td>\n",
       "      <td>52</td>\n",
       "      <td>33</td>\n",
       "      <td>42</td>\n",
       "      <td>56</td>\n",
       "      <td>44</td>\n",
       "      <td>0</td>\n",
       "      <td>NaN</td>\n",
       "      <td>4524636.0</td>\n",
       "    </tr>\n",
       "  </tbody>\n",
       "</table>\n",
       "</div>"
      ],
      "text/plain": [
       "   Conc.        Data  n1  n2  n3  n4  n5  n6  Gan.  Prêmio    Apostas\n",
       "0   2911  06/09/2025  54  59  32  56  23  27     0     NaN  9881794.0\n",
       "1   2910  04/09/2025  11  28  15  29   4   3     0     NaN  7528956.0\n",
       "2   2909  02/09/2025  21  31  53  58  41   8     0     NaN  6454893.0\n",
       "3   2908  30/08/2025  37  38  20  36  50  35     0     NaN  6862741.0\n",
       "4   2907  28/08/2025  30  52  33  42  56  44     0     NaN  4524636.0"
      ]
     },
     "execution_count": 27,
     "metadata": {},
     "output_type": "execute_result"
    }
   ],
   "source": [
    "df = pd.read_excel('resultados_mega.xlsx')\n",
    "df.head()"
   ]
  },
  {
   "cell_type": "code",
   "execution_count": 28,
   "id": "02179d6a",
   "metadata": {},
   "outputs": [
    {
     "name": "stdout",
     "output_type": "stream",
     "text": [
      "Moda por coluna:\n",
      "n1: 28\n",
      "n2: 5\n",
      "n3: 56\n",
      "n4: 37\n",
      "n5: 35\n",
      "n6: 23\n"
     ]
    }
   ],
   "source": [
    "print ('Moda por coluna:')\n",
    "for col in ['n1', 'n2', 'n3', 'n4', 'n5', 'n6']:\n",
    "    moda_coluna = df[col].mode()[0]\n",
    "    print(f'{col}: {moda_coluna}')"
   ]
  },
  {
   "cell_type": "code",
   "execution_count": 36,
   "id": "f46a79b8",
   "metadata": {},
   "outputs": [
    {
     "data": {
      "text/plain": [
       "10"
      ]
     },
     "execution_count": 36,
     "metadata": {},
     "output_type": "execute_result"
    }
   ],
   "source": [
    "todos_numeros = np.concatenate([df['n1'],df['n2'],df['n3'],\n",
    "                                df['n4'],df['n5'],df['n6']])\n",
    "\n",
    "moda_geral = pd.Series(todos_numeros).mode()[0]\n",
    "moda_geral"
   ]
  },
  {
   "cell_type": "code",
   "execution_count": 37,
   "id": "48120e6b",
   "metadata": {},
   "outputs": [
    {
     "name": "stdout",
     "output_type": "stream",
     "text": [
      "os 6 numeros mais repetidos por coluna:\n",
      "\n",
      "Coluna n1: \n",
      "n1\n",
      "28    63\n",
      "35    62\n",
      "30    61\n",
      "46    60\n",
      "32    60\n",
      "49    59\n",
      "Name: count, dtype: int64\n",
      "\n",
      "Coluna n2: \n",
      "n2\n",
      "5     67\n",
      "10    63\n",
      "39    62\n",
      "53    62\n",
      "32    61\n",
      "17    59\n",
      "Name: count, dtype: int64\n",
      "\n",
      "Coluna n3: \n",
      "n3\n",
      "56    63\n",
      "27    62\n",
      "38    61\n",
      "34    61\n",
      "41    60\n",
      "54    57\n",
      "Name: count, dtype: int64\n",
      "\n",
      "Coluna n4: \n",
      "n4\n",
      "37    67\n",
      "60    64\n",
      "29    62\n",
      "34    57\n",
      "1     56\n",
      "36    56\n",
      "Name: count, dtype: int64\n",
      "\n",
      "Coluna n5: \n",
      "n5\n",
      "35    64\n",
      "10    63\n",
      "16    61\n",
      "44    59\n",
      "24    57\n",
      "45    57\n",
      "Name: count, dtype: int64\n",
      "\n",
      "Coluna n6: \n",
      "n6\n",
      "23    64\n",
      "33    63\n",
      "17    59\n",
      "10    58\n",
      "53    58\n",
      "16    58\n",
      "Name: count, dtype: int64\n"
     ]
    }
   ],
   "source": [
    "print ('os 6 numeros mais repetidos por coluna:')\n",
    "for col in ['n1', 'n2', 'n3', 'n4', 'n5', 'n6']:\n",
    "    top6_por_coluna = df[col].value_counts().head(6)\n",
    "    print(f'\\nColuna {col}: ')\n",
    "    print(top6_por_coluna)"
   ]
  },
  {
   "cell_type": "code",
   "execution_count": 40,
   "id": "94444f99",
   "metadata": {},
   "outputs": [
    {
     "name": "stdout",
     "output_type": "stream",
     "text": [
      "\n",
      "-------------------------------------------------\n",
      "\n",
      "Os 6 números mais repetidos no geral (todas as colunas juntas):\n",
      "10    340\n",
      "53    332\n",
      "5     319\n",
      "34    315\n",
      "37    314\n",
      "33    312\n",
      "Name: count, dtype: int64\n"
     ]
    }
   ],
   "source": [
    "todos_os_numeros = pd.Series(np.concatenate([df['n1'], df['n2'], df['n3'], df['n4'], df['n5'], df['n6']]))\n",
    "\n",
    "top_6_geral = todos_os_numeros.value_counts().head(6)\n",
    "\n",
    "print(\"\\n-------------------------------------------------\")\n",
    "print(\"\\nOs 6 números mais repetidos no geral (todas as colunas juntas):\")\n",
    "print(top_6_geral)"
   ]
  },
  {
   "cell_type": "code",
   "execution_count": 41,
   "id": "fc9e2133",
   "metadata": {},
   "outputs": [
    {
     "data": {
      "text/plain": [
       "2911"
      ]
     },
     "execution_count": 41,
     "metadata": {},
     "output_type": "execute_result"
    }
   ],
   "source": [
    "numero_linhas = len(df)\n",
    "\n",
    "numero_linhas"
   ]
  },
  {
   "cell_type": "code",
   "execution_count": 42,
   "id": "cfd6004d",
   "metadata": {},
   "outputs": [
    {
     "data": {
      "text/plain": [
       "0.11679835108210238"
      ]
     },
     "execution_count": 42,
     "metadata": {},
     "output_type": "execute_result"
    }
   ],
   "source": [
    "pctg = 340 / numero_linhas\n",
    "pctg"
   ]
  },
  {
   "cell_type": "code",
   "execution_count": null,
   "id": "f1ff5fec",
   "metadata": {},
   "outputs": [],
   "source": []
  }
 ],
 "metadata": {
  "kernelspec": {
   "display_name": "base",
   "language": "python",
   "name": "python3"
  },
  "language_info": {
   "codemirror_mode": {
    "name": "ipython",
    "version": 3
   },
   "file_extension": ".py",
   "mimetype": "text/x-python",
   "name": "python",
   "nbconvert_exporter": "python",
   "pygments_lexer": "ipython3",
   "version": "3.12.4"
  }
 },
 "nbformat": 4,
 "nbformat_minor": 5
}
