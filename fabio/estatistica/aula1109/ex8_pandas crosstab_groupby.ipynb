{
 "cells": [
  {
   "cell_type": "markdown",
   "metadata": {
    "id": "GCziGsgPNV4Q"
   },
   "source": [
    "# Pandas"
   ]
  },
  {
   "cell_type": "markdown",
   "metadata": {
    "id": "brxaPfX8NbnA"
   },
   "source": [
    "**Crosstab** (tabulação cruzada) é ideal para contar a frequência com que combinações de valores aparecem em diferentes colunas. Ela cria uma matriz que mostra a relação entre duas ou mais variáveis categóricas."
   ]
  },
  {
   "cell_type": "code",
   "execution_count": null,
   "metadata": {
    "colab": {
     "base_uri": "https://localhost:8080/"
    },
    "executionInfo": {
     "elapsed": 490,
     "status": "ok",
     "timestamp": 1757601539219,
     "user": {
      "displayName": "Fabio PS",
      "userId": "03540177953207886049"
     },
     "user_tz": 180
    },
    "id": "JiGcW64dNnVY",
    "outputId": "b5f7eb93-6dee-498f-93a5-60fe5caccb0d"
   },
   "outputs": [
    {
     "name": "stdout",
     "output_type": "stream",
     "text": [
      "--- Usando pd.crosstab() ---\n"
     ]
    }
   ],
   "source": [
    "import pandas as pd\n",
    "\n",
    "# Criando o DataFrame de exemplo\n",
    "data = {'Dia': ['Seg', 'Seg', 'Ter', 'Ter', 'Qua', 'Qua', 'Qui', 'Qui'],\n",
    "        'Vendedor': ['Ana', 'Beto', 'Ana', 'Carlos', 'Beto', 'Ana', 'Carlos', 'Beto'],\n",
    "        'Gênero': ['Fem', 'Masc', 'Masc', 'Fem', 'Fem', 'Masc', 'Fem', 'Masc'],\n",
    "        'Produto': ['Camisa', 'Calça', 'Camisa', 'Calça', 'Camisa', 'Calça', 'Camisa', 'Camisa'],\n",
    "        'Valor': [50, 120, 60, 150, 55, 110, 65, 60]}\n",
    "df = pd.DataFrame(data)\n",
    "df.head(10)\n",
    "\n",
    "# Queremos contar quantos produtos (índice) cada vendedor (colunas) vendeu\n",
    "contagem_vendas = pd.crosstab(index=df['Produto'], columns=df['Vendedor'])\n",
    "\n",
    "print(\"--- Usando pd.crosstab() ---\")\n",
    "#                               print(contagem_vendas)"
   ]
  },
  {
   "cell_type": "markdown",
   "metadata": {
    "id": "rIyli3JxN0aN"
   },
   "source": [
    "**Groupby** é muito mais flexível. Ela agrupa os dados com base em uma ou mais colunas e depois permite que aplique uma função de agregação (como soma, média, contagem, etc.) a outras colunas."
   ]
  },
  {
   "cell_type": "code",
   "execution_count": 2,
   "metadata": {
    "colab": {
     "base_uri": "https://localhost:8080/"
    },
    "executionInfo": {
     "elapsed": 20,
     "status": "ok",
     "timestamp": 1757601616047,
     "user": {
      "displayName": "Fabio PS",
      "userId": "03540177953207886049"
     },
     "user_tz": 180
    },
    "id": "nYRp9cViN_gz",
    "outputId": "e10628ef-c7fc-4958-96af-3560e3b599c5"
   },
   "outputs": [
    {
     "name": "stdout",
     "output_type": "stream",
     "text": [
      "\n",
      "--- Usando .groupby() ---\n",
      "Vendedor  Produto\n",
      "Ana       Calça      110\n",
      "          Camisa     110\n",
      "Beto      Calça      120\n",
      "          Camisa     115\n",
      "Carlos    Calça      150\n",
      "          Camisa      65\n",
      "Name: Valor, dtype: int64\n"
     ]
    }
   ],
   "source": [
    "import pandas as pd\n",
    "\n",
    "# --- Exemplo de groupby ---\n",
    "# 1. Agrupar por 'Vendedor' e 'Produto'\n",
    "# 2. Selecionar a coluna 'Valor'\n",
    "# 3. Aplicar a função de agregação 'sum()' (soma)\n",
    "total_por_produto = df.groupby(['Vendedor', 'Produto'])['Valor'].sum()\n",
    "\n",
    "print(\"\\n--- Usando .groupby() ---\")\n",
    "print(total_por_produto)"
   ]
  }
 ],
 "metadata": {
  "colab": {
   "authorship_tag": "ABX9TyPvKNqk07YkPPalKTnOqPIq",
   "provenance": []
  },
  "kernelspec": {
   "display_name": "Python 3",
   "name": "python3"
  },
  "language_info": {
   "codemirror_mode": {
    "name": "ipython",
    "version": 3
   },
   "file_extension": ".py",
   "mimetype": "text/x-python",
   "name": "python",
   "nbconvert_exporter": "python",
   "pygments_lexer": "ipython3",
   "version": "3.13.2"
  }
 },
 "nbformat": 4,
 "nbformat_minor": 0
}
