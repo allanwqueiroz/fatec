{
 "cells": [
  {
   "cell_type": "code",
   "execution_count": 1,
   "id": "16187e6d",
   "metadata": {},
   "outputs": [
    {
     "name": "stdout",
     "output_type": "stream",
     "text": [
      "52.21084905660377\n"
     ]
    }
   ],
   "source": [
    "import pandas as pd\n",
    "import numpy as np\n",
    "import seaborn as sns\n",
    "import matplotlib.pyplot as plt\n",
    "\n",
    "dados = [501,504,493,499,497,503,525,495,506,502]\n",
    "vendas = pd.read_csv(r'C:\\Users\\Allien\\Documents\\Acadêmico\\Fatec\\fabio\\estatistica\\Vendas.csv', encoding='latin-1')\n",
    "media = np.mean(dados)\n",
    "varianciaVendas = vendas['Valor'].var(ddof=1)\n",
    "mediaVendas = vendas['Valor'].mean()\n",
    "print (mediaVendas)\n",
    "\n"
   ]
  },
  {
   "cell_type": "code",
   "execution_count": null,
   "id": "ba86c88e",
   "metadata": {},
   "outputs": [],
   "source": []
  }
 ],
 "metadata": {
  "kernelspec": {
   "display_name": "base",
   "language": "python",
   "name": "python3"
  },
  "language_info": {
   "codemirror_mode": {
    "name": "ipython",
    "version": 3
   },
   "file_extension": ".py",
   "mimetype": "text/x-python",
   "name": "python",
   "nbconvert_exporter": "python",
   "pygments_lexer": "ipython3",
   "version": "3.12.4"
  }
 },
 "nbformat": 4,
 "nbformat_minor": 5
}
