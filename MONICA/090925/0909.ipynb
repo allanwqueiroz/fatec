{
  "cells": [
    {
      "cell_type": "code",
      "execution_count": null,
      "id": "d9bcf952",
      "metadata": {
        "id": "d9bcf952"
      },
      "outputs": [],
      "source": [
        "import numpy as np\n",
        "import sympy as sp"
      ]
    },
    {
      "cell_type": "code",
      "execution_count": null,
      "id": "a525058d",
      "metadata": {
        "colab": {
          "base_uri": "https://localhost:8080/"
        },
        "id": "a525058d",
        "outputId": "e680665b-b0db-4269-ef86-45a6f5f48438"
      },
      "outputs": [
        {
          "output_type": "stream",
          "name": "stdout",
          "text": [
            "[[1 2]\n",
            " [3 4]]\n"
          ]
        }
      ],
      "source": [
        "#1.\n",
        "matriz_o2 = np.array([[1, 2],\n",
        "                    [3, 4]])\n",
        "\n",
        "print(matriz_o2)\n"
      ]
    },
    {
      "cell_type": "code",
      "execution_count": null,
      "id": "60b8b446",
      "metadata": {
        "colab": {
          "base_uri": "https://localhost:8080/"
        },
        "id": "60b8b446",
        "outputId": "3138acc7-82ae-4de7-dcf9-57a2e90e6d77"
      },
      "outputs": [
        {
          "output_type": "execute_result",
          "data": {
            "text/plain": [
              "array([[1, 2, 1],\n",
              "       [3, 4, 3],\n",
              "       [5, 6, 5]])"
            ]
          },
          "metadata": {},
          "execution_count": 4
        }
      ],
      "source": [
        "#2.\n",
        "matriz_o3 = np.array([[1, 2, 1],\n",
        "                [3, 4, 3],\n",
        "                [5, 6, 5]])\n",
        "\n",
        "matriz_o3\n"
      ]
    },
    {
      "cell_type": "code",
      "execution_count": null,
      "id": "93235915",
      "metadata": {
        "colab": {
          "base_uri": "https://localhost:8080/"
        },
        "id": "93235915",
        "outputId": "945fb782-1563-4412-dc3a-1fe9f54d4255"
      },
      "outputs": [
        {
          "output_type": "execute_result",
          "data": {
            "text/plain": [
              "array([[1, 2, 3, 4],\n",
              "       [2, 3, 4, 5],\n",
              "       [3, 4, 5, 6],\n",
              "       [4, 5, 6, 7]])"
            ]
          },
          "metadata": {},
          "execution_count": 6
        }
      ],
      "source": [
        "#3.\n",
        "matriz_o4 = np.array([[1,2,3,4],[2,3,4,5],[3,4,5,6],[4,5,6,7]])\n",
        "matriz_o4"
      ]
    },
    {
      "cell_type": "code",
      "execution_count": null,
      "id": "27b93a58",
      "metadata": {
        "colab": {
          "base_uri": "https://localhost:8080/"
        },
        "id": "27b93a58",
        "outputId": "1a6e988f-d2a9-4cc5-bc24-135a0004e994"
      },
      "outputs": [
        {
          "output_type": "execute_result",
          "data": {
            "text/plain": [
              "array([[1, 0, 0, 0],\n",
              "       [0, 1, 0, 0],\n",
              "       [0, 0, 1, 0],\n",
              "       [0, 0, 0, 1]])"
            ]
          },
          "metadata": {},
          "execution_count": 7
        }
      ],
      "source": [
        "#4.\n",
        "matriz_i4 = np.eye(4, dtype=int)\n",
        "matriz_i4"
      ]
    },
    {
      "cell_type": "code",
      "execution_count": null,
      "id": "ffdc9e46",
      "metadata": {
        "colab": {
          "base_uri": "https://localhost:8080/",
          "height": 53
        },
        "id": "ffdc9e46",
        "outputId": "7a42d6e1-699d-4f79-f905-9ab5eb3537d6"
      },
      "outputs": [
        {
          "output_type": "execute_result",
          "data": {
            "text/plain": [
              "'Para a criação de uma matriz de ordem 3 e 4, a unica diferença consiste no parâmetro que você passa para a função.\\nIsso também serve para a criação das matriz de identidade. A lib numpy é responsável por ordenar todo o esqueleto'"
            ],
            "application/vnd.google.colaboratory.intrinsic+json": {
              "type": "string"
            }
          },
          "metadata": {},
          "execution_count": 8
        }
      ],
      "source": [
        "#5.\n",
        "\"\"\"Para a criação de uma matriz de ordem 3 e 4, a unica diferença consiste no parâmetro que você passa para a função.\n",
        "Isso também serve para a criação das matriz de identidade. A lib numpy é responsável por ordenar todo o esqueleto\"\"\""
      ]
    },
    {
      "cell_type": "code",
      "execution_count": null,
      "id": "cc265e5c",
      "metadata": {
        "colab": {
          "base_uri": "https://localhost:8080/"
        },
        "id": "cc265e5c",
        "outputId": "092f1233-e785-4d2a-957c-e3d5e721ddfb"
      },
      "outputs": [
        {
          "output_type": "stream",
          "name": "stdout",
          "text": [
            "-1.7763568394002396e-15\n"
          ]
        }
      ],
      "source": [
        "#6.\n",
        "\"\"\"Para esse exemplo, vou usar a matriz 3x3 que construi no começo\"\"\"\n",
        "det_matriz_o3 = np.linalg.det(matriz_o3)\n",
        "print(det_matriz_o3)"
      ]
    },
    {
      "cell_type": "code",
      "execution_count": null,
      "id": "b5c1f432",
      "metadata": {
        "colab": {
          "base_uri": "https://localhost:8080/"
        },
        "id": "b5c1f432",
        "outputId": "89128a10-d8bb-4728-e6f5-8bf1e0ebbdd4"
      },
      "outputs": [
        {
          "output_type": "execute_result",
          "data": {
            "text/plain": [
              "np.float64(0.0)"
            ]
          },
          "metadata": {},
          "execution_count": 10
        }
      ],
      "source": [
        "#7.\n",
        "matriz_nula = np.array([[4, 6],[2,3]])\n",
        "matriz_det0 = np.linalg.det(matriz_nula)\n",
        "matriz_det0"
      ]
    },
    {
      "cell_type": "code",
      "execution_count": null,
      "id": "06934cc0",
      "metadata": {
        "colab": {
          "base_uri": "https://localhost:8080/",
          "height": 78
        },
        "id": "06934cc0",
        "outputId": "ac05f1dd-154d-45ea-c54d-8e8ca9e31593"
      },
      "outputs": [
        {
          "output_type": "execute_result",
          "data": {
            "text/plain": [
              "Matrix([\n",
              "[1, 0, -1, -1],\n",
              "[0, 1,  2,  5],\n",
              "[0, 0,  0,  0]])"
            ],
            "text/latex": "$\\displaystyle \\left[\\begin{matrix}1 & 0 & -1 & -1\\\\0 & 1 & 2 & 5\\\\0 & 0 & 0 & 0\\end{matrix}\\right]$"
          },
          "metadata": {},
          "execution_count": 16
        }
      ],
      "source": [
        "#8.\n",
        "matriz_a = sp.Matrix([[1,2,3],[2,3,4],[3,4,5]])\n",
        "vetor_b = sp.Matrix([9,13,17])\n",
        "\n",
        "matriz_aumentada_AB = matriz_a.row_join(vetor_b)\n",
        "\n",
        "matriz_AB_escalonada, _ = matriz_aumentada_AB.rref()\n",
        "matriz_AB_escalonada\n",
        "\n"
      ]
    },
    {
      "cell_type": "code",
      "source": [],
      "metadata": {
        "id": "LAY_ZD2JfhaY"
      },
      "id": "LAY_ZD2JfhaY",
      "execution_count": null,
      "outputs": []
    }
  ],
  "metadata": {
    "kernelspec": {
      "display_name": "Python 3",
      "language": "python",
      "name": "python3"
    },
    "language_info": {
      "codemirror_mode": {
        "name": "ipython",
        "version": 3
      },
      "file_extension": ".py",
      "mimetype": "text/x-python",
      "name": "python",
      "nbconvert_exporter": "python",
      "pygments_lexer": "ipython3",
      "version": "3.13.5"
    },
    "colab": {
      "provenance": []
    }
  },
  "nbformat": 4,
  "nbformat_minor": 5
}